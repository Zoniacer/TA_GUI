{
 "cells": [
  {
   "cell_type": "code",
   "execution_count": 1,
   "metadata": {},
   "outputs": [],
   "source": [
    "#tensorflow\n",
    "import tensorflow as tf\n",
    "from tensorflow import keras\n",
    "from tensorflow.keras.preprocessing import image\n",
    "from tensorflow.keras.applications.densenet import preprocess_input, decode_predictions\n",
    "from tensorflow.keras.utils import to_categorical\n",
    "from tensorflow.keras.preprocessing.image import ImageDataGenerator, array_to_img, img_to_array, load_img\n",
    "from tensorflow.keras import Sequential\n",
    "from tensorflow.keras.layers import Flatten, Dense,BatchNormalization,Dropout,Input\n",
    "from tensorflow.keras import datasets, layers, models\n",
    "from keras.models import Sequential, Model\n",
    "from keras.regularizers import l2  \n",
    "# Utils\n",
    "import os\n",
    "import cv2\n",
    "from sklearn.utils import shuffle\n",
    "from pathlib import Path\n",
    "from sklearn import preprocessing\n",
    "from sklearn.model_selection import train_test_split\n",
    "import time\n",
    "\n",
    "#Evaluation\n",
    "from sklearn.metrics import classification_report, confusion_matrix\n",
    "from sklearn.metrics import accuracy_score\n",
    "from sklearn.metrics import precision_score\n",
    "from sklearn.metrics import recall_score\n",
    "from sklearn.metrics import f1_score\n",
    "from sklearn.metrics import cohen_kappa_score\n",
    "from sklearn.metrics import roc_auc_score\n",
    "\n",
    "# #mount drive\n",
    "# from google.colab import drive\n",
    "\n",
    "# Core\n",
    "import numpy as np\n",
    "import pandas as pd \n",
    "import matplotlib.pyplot as plt \n",
    "import seaborn as sns;\n",
    "from glob import glob \n",
    "import random"
   ]
  },
  {
   "cell_type": "code",
   "execution_count": 2,
   "metadata": {},
   "outputs": [],
   "source": [
    "def img_Generator(file_name,gen_type,width, length):\n",
    "    if gen_type=='yes':\n",
    "        generet_Data=ImageDataGenerator(rotation_range=40,\n",
    "                                    width_shift_range=0.2,\n",
    "                                    height_shift_range=0.2,\n",
    "                                    shear_range=0.2,\n",
    "                                    zoom_range=0.2,\n",
    "                                    horizontal_flip=True,\n",
    "                                    fill_mode='nearest')\n",
    "        gen_data=generet_Data.flow_from_directory(file_name,target_size=(width, length),\n",
    "                                                  batch_size=32,shuffle=True,\n",
    "                                                  class_mode='categorical')\n",
    "                \n",
    "    else:\n",
    "        generet_Data1=ImageDataGenerator()\n",
    "        gen_data=generet_Data1.flow_from_directory(file_name,target_size=(width, length),\n",
    "                                                  batch_size=32,shuffle=False,\n",
    "                                                  class_mode='categorical')\n",
    "    \n",
    "    return gen_data"
   ]
  },
  {
   "cell_type": "code",
   "execution_count": 3,
   "metadata": {},
   "outputs": [
    {
     "ename": "KeyboardInterrupt",
     "evalue": "",
     "output_type": "error",
     "traceback": [
      "\u001b[1;31m---------------------------------------------------------------------------\u001b[0m",
      "\u001b[1;31mKeyboardInterrupt\u001b[0m                         Traceback (most recent call last)",
      "\u001b[1;32m<ipython-input-3-9c0746a8165c>\u001b[0m in \u001b[0;36m<module>\u001b[1;34m\u001b[0m\n\u001b[0;32m     15\u001b[0m     \u001b[0mimgs\u001b[0m\u001b[1;33m[\u001b[0m\u001b[0mi\u001b[0m\u001b[1;33m]\u001b[0m \u001b[1;33m=\u001b[0m \u001b[1;33m[\u001b[0m\u001b[0mimg\u001b[0m\u001b[1;33m.\u001b[0m\u001b[0mname\u001b[0m \u001b[1;32mfor\u001b[0m \u001b[0mimg\u001b[0m \u001b[1;32min\u001b[0m \u001b[0mPath\u001b[0m\u001b[1;33m(\u001b[0m\u001b[0mroot\u001b[0m\u001b[1;33m+\u001b[0m\u001b[0mlabels\u001b[0m\u001b[1;33m)\u001b[0m\u001b[1;33m.\u001b[0m\u001b[0miterdir\u001b[0m\u001b[1;33m(\u001b[0m\u001b[1;33m)\u001b[0m \u001b[1;32mif\u001b[0m \u001b[0mimg\u001b[0m\u001b[1;33m.\u001b[0m\u001b[0msuffix\u001b[0m \u001b[1;33m==\u001b[0m \u001b[1;34m\".jpg\"\u001b[0m\u001b[1;33m]\u001b[0m\u001b[1;33m\u001b[0m\u001b[1;33m\u001b[0m\u001b[0m\n\u001b[0;32m     16\u001b[0m     \u001b[0mimg_meta\u001b[0m \u001b[1;33m=\u001b[0m \u001b[1;33m{\u001b[0m\u001b[1;33m}\u001b[0m\u001b[1;33m\u001b[0m\u001b[1;33m\u001b[0m\u001b[0m\n\u001b[1;32m---> 17\u001b[1;33m     \u001b[1;32mfor\u001b[0m \u001b[0mf\u001b[0m \u001b[1;32min\u001b[0m \u001b[0mimgs\u001b[0m\u001b[1;33m[\u001b[0m\u001b[0mi\u001b[0m\u001b[1;33m]\u001b[0m\u001b[1;33m:\u001b[0m \u001b[0mimg_meta\u001b[0m\u001b[1;33m[\u001b[0m\u001b[0mstr\u001b[0m\u001b[1;33m(\u001b[0m\u001b[0mf\u001b[0m\u001b[1;33m)\u001b[0m\u001b[1;33m]\u001b[0m \u001b[1;33m=\u001b[0m \u001b[0mimagesize\u001b[0m\u001b[1;33m.\u001b[0m\u001b[0mget\u001b[0m\u001b[1;33m(\u001b[0m\u001b[0mroot\u001b[0m\u001b[1;33m+\u001b[0m\u001b[0mlabels\u001b[0m\u001b[1;33m+\u001b[0m\u001b[1;34m'/'\u001b[0m\u001b[1;33m+\u001b[0m\u001b[0mf\u001b[0m\u001b[1;33m)\u001b[0m\u001b[1;33m\u001b[0m\u001b[1;33m\u001b[0m\u001b[0m\n\u001b[0m\u001b[0;32m     18\u001b[0m \u001b[1;31m#     img_met_fin+=img_meta\u001b[0m\u001b[1;33m\u001b[0m\u001b[1;33m\u001b[0m\u001b[1;33m\u001b[0m\u001b[0m\n\u001b[0;32m     19\u001b[0m     \u001b[0mdataframe_collection\u001b[0m\u001b[1;33m[\u001b[0m\u001b[0mi\u001b[0m\u001b[1;33m]\u001b[0m \u001b[1;33m=\u001b[0m \u001b[0mpd\u001b[0m\u001b[1;33m.\u001b[0m\u001b[0mDataFrame\u001b[0m\u001b[1;33m.\u001b[0m\u001b[0mfrom_dict\u001b[0m\u001b[1;33m(\u001b[0m\u001b[1;33m[\u001b[0m\u001b[0mimg_meta\u001b[0m\u001b[1;33m]\u001b[0m\u001b[1;33m)\u001b[0m\u001b[1;33m.\u001b[0m\u001b[0mT\u001b[0m\u001b[1;33m.\u001b[0m\u001b[0mreset_index\u001b[0m\u001b[1;33m(\u001b[0m\u001b[1;33m)\u001b[0m\u001b[1;33m.\u001b[0m\u001b[0mset_axis\u001b[0m\u001b[1;33m(\u001b[0m\u001b[1;33m[\u001b[0m\u001b[1;34m'FileName'\u001b[0m\u001b[1;33m,\u001b[0m \u001b[1;34m'Size'\u001b[0m\u001b[1;33m]\u001b[0m\u001b[1;33m,\u001b[0m \u001b[0maxis\u001b[0m\u001b[1;33m=\u001b[0m\u001b[1;34m'columns'\u001b[0m\u001b[1;33m,\u001b[0m \u001b[0minplace\u001b[0m\u001b[1;33m=\u001b[0m\u001b[1;32mFalse\u001b[0m\u001b[1;33m)\u001b[0m\u001b[1;33m\u001b[0m\u001b[1;33m\u001b[0m\u001b[0m\n",
      "\u001b[1;32m~\\anaconda3\\lib\\site-packages\\imagesize.py\u001b[0m in \u001b[0;36mget\u001b[1;34m(filepath)\u001b[0m\n\u001b[0;32m     89\u001b[0m     \u001b[0mwidth\u001b[0m \u001b[1;33m=\u001b[0m \u001b[1;33m-\u001b[0m\u001b[1;36m1\u001b[0m\u001b[1;33m\u001b[0m\u001b[1;33m\u001b[0m\u001b[0m\n\u001b[0;32m     90\u001b[0m \u001b[1;33m\u001b[0m\u001b[0m\n\u001b[1;32m---> 91\u001b[1;33m     \u001b[1;32mwith\u001b[0m \u001b[0mopen\u001b[0m\u001b[1;33m(\u001b[0m\u001b[0mstr\u001b[0m\u001b[1;33m(\u001b[0m\u001b[0mfilepath\u001b[0m\u001b[1;33m)\u001b[0m\u001b[1;33m,\u001b[0m \u001b[1;34m'rb'\u001b[0m\u001b[1;33m)\u001b[0m \u001b[1;32mas\u001b[0m \u001b[0mfhandle\u001b[0m\u001b[1;33m:\u001b[0m\u001b[1;33m\u001b[0m\u001b[1;33m\u001b[0m\u001b[0m\n\u001b[0m\u001b[0;32m     92\u001b[0m         \u001b[0mhead\u001b[0m \u001b[1;33m=\u001b[0m \u001b[0mfhandle\u001b[0m\u001b[1;33m.\u001b[0m\u001b[0mread\u001b[0m\u001b[1;33m(\u001b[0m\u001b[1;36m24\u001b[0m\u001b[1;33m)\u001b[0m\u001b[1;33m\u001b[0m\u001b[1;33m\u001b[0m\u001b[0m\n\u001b[0;32m     93\u001b[0m         \u001b[0msize\u001b[0m \u001b[1;33m=\u001b[0m \u001b[0mlen\u001b[0m\u001b[1;33m(\u001b[0m\u001b[0mhead\u001b[0m\u001b[1;33m)\u001b[0m\u001b[1;33m\u001b[0m\u001b[1;33m\u001b[0m\u001b[0m\n",
      "\u001b[1;31mKeyboardInterrupt\u001b[0m: "
     ]
    }
   ],
   "source": [
    "import pandas as pd\n",
    "import matplotlib.pyplot  as plt\n",
    "from PIL import Image\n",
    "from pathlib import Path\n",
    "import imagesize\n",
    "import numpy as np\n",
    "root='C:/Users/Hanif/Documents/Kuliah/TA/Data/Original/'\n",
    "img_met_fin = []\n",
    "img_meta_df = pd.DataFrame()\n",
    "dataframe_collection={}\n",
    "imgs={}\n",
    "\n",
    "for i,labels in enumerate(os.listdir(root)):\n",
    "    # Get the Image Resolutions\n",
    "    imgs[i] = [img.name for img in Path(root+labels).iterdir() if img.suffix == \".jpg\"]\n",
    "    img_meta = {}\n",
    "    for f in imgs[i]: img_meta[str(f)] = imagesize.get(root+labels+'/'+f)\n",
    "#     img_met_fin+=img_meta\n",
    "    dataframe_collection[i] = pd.DataFrame.from_dict([img_meta]).T.reset_index().set_axis(['FileName', 'Size'], axis='columns', inplace=False)\n",
    "    dataframe_collection[i][[\"Width\", \"Height\"]] = pd.DataFrame(dataframe_collection[i][\"Size\"].tolist(), index=dataframe_collection[i].index)\n",
    "    dataframe_collection[i][\"Aspect Ratio\"] = round(dataframe_collection[i][\"Width\"] / dataframe_collection[i][\"Height\"], 2)\n",
    "\n",
    "frames = [dataframe_collection[i] for i in range(len(dataframe_collection))]\n",
    "result = pd.concat(frames)\n",
    "\n",
    "# print(f'Total Nr of Images in the dataset: {len(img_meta_df)}')\n",
    "print(result)\n",
    "# print(img_meta)"
   ]
  },
  {
   "cell_type": "code",
   "execution_count": 4,
   "metadata": {},
   "outputs": [
    {
     "data": {
      "text/html": [
       "<div>\n",
       "<style scoped>\n",
       "    .dataframe tbody tr th:only-of-type {\n",
       "        vertical-align: middle;\n",
       "    }\n",
       "\n",
       "    .dataframe tbody tr th {\n",
       "        vertical-align: top;\n",
       "    }\n",
       "\n",
       "    .dataframe thead th {\n",
       "        text-align: right;\n",
       "    }\n",
       "</style>\n",
       "<table border=\"1\" class=\"dataframe\">\n",
       "  <thead>\n",
       "    <tr style=\"text-align: right;\">\n",
       "      <th></th>\n",
       "      <th>Width</th>\n",
       "      <th>Height</th>\n",
       "      <th>Aspect Ratio</th>\n",
       "    </tr>\n",
       "  </thead>\n",
       "  <tbody>\n",
       "    <tr>\n",
       "      <th>count</th>\n",
       "      <td>5011.000000</td>\n",
       "      <td>5011.000000</td>\n",
       "      <td>5011.000000</td>\n",
       "    </tr>\n",
       "    <tr>\n",
       "      <th>mean</th>\n",
       "      <td>261.215127</td>\n",
       "      <td>195.906007</td>\n",
       "      <td>1.391397</td>\n",
       "    </tr>\n",
       "    <tr>\n",
       "      <th>std</th>\n",
       "      <td>38.694510</td>\n",
       "      <td>31.473439</td>\n",
       "      <td>0.380370</td>\n",
       "    </tr>\n",
       "    <tr>\n",
       "      <th>min</th>\n",
       "      <td>128.000000</td>\n",
       "      <td>94.000000</td>\n",
       "      <td>0.440000</td>\n",
       "    </tr>\n",
       "    <tr>\n",
       "      <th>25%</th>\n",
       "      <td>225.000000</td>\n",
       "      <td>168.000000</td>\n",
       "      <td>1.000000</td>\n",
       "    </tr>\n",
       "    <tr>\n",
       "      <th>50%</th>\n",
       "      <td>275.000000</td>\n",
       "      <td>183.000000</td>\n",
       "      <td>1.500000</td>\n",
       "    </tr>\n",
       "    <tr>\n",
       "      <th>75%</th>\n",
       "      <td>299.000000</td>\n",
       "      <td>225.000000</td>\n",
       "      <td>1.770000</td>\n",
       "    </tr>\n",
       "    <tr>\n",
       "      <th>max</th>\n",
       "      <td>440.000000</td>\n",
       "      <td>339.000000</td>\n",
       "      <td>3.860000</td>\n",
       "    </tr>\n",
       "  </tbody>\n",
       "</table>\n",
       "</div>"
      ],
      "text/plain": [
       "             Width       Height  Aspect Ratio\n",
       "count  5011.000000  5011.000000   5011.000000\n",
       "mean    261.215127   195.906007      1.391397\n",
       "std      38.694510    31.473439      0.380370\n",
       "min     128.000000    94.000000      0.440000\n",
       "25%     225.000000   168.000000      1.000000\n",
       "50%     275.000000   183.000000      1.500000\n",
       "75%     299.000000   225.000000      1.770000\n",
       "max     440.000000   339.000000      3.860000"
      ]
     },
     "execution_count": 4,
     "metadata": {},
     "output_type": "execute_result"
    }
   ],
   "source": [
    "result.describe()"
   ]
  },
  {
   "cell_type": "code",
   "execution_count": 5,
   "metadata": {},
   "outputs": [
    {
     "data": {
      "text/plain": [
       "Text(0, 0.5, 'Height')"
      ]
     },
     "execution_count": 5,
     "metadata": {},
     "output_type": "execute_result"
    },
    {
     "data": {
      "image/png": "[encoded data removed]",
      "text/plain": [
       "<Figure size 576x576 with 1 Axes>"
      ]
     },
     "metadata": {
      "needs_background": "light"
     },
     "output_type": "display_data"
    }
   ],
   "source": [
    "fig = plt.figure(figsize=(8, 8))\n",
    "ax = fig.add_subplot(111)\n",
    "points = ax.scatter(result.Width, result.Height, color='blue', alpha=0.5, s=result[\"Aspect Ratio\"]*100, picker=True)\n",
    "ax.set_title(\"Image Resolution\")\n",
    "ax.set_xlabel(\"Width\", size=14)\n",
    "ax.set_ylabel(\"Height\", size=14)"
   ]
  },
  {
   "cell_type": "code",
   "execution_count": 4,
   "metadata": {},
   "outputs": [
    {
     "name": "stdout",
     "output_type": "stream",
     "text": [
      "Found 2866 images belonging to 10 classes.\n",
      "Found 1193 images belonging to 10 classes.\n"
     ]
    }
   ],
   "source": [
    "#CNN\n",
    "CNN_width=261\n",
    "CNN_height=195\n",
    "image_path='C:/Users/Hanif/Documents/Kuliah/TA/Data/0_3_Split'\n",
    "data_typ='yes'\n",
    "train_data=img_Generator(str(image_path)+'/train/',data_typ,CNN_width,CNN_height)\n",
    "data_typ='no'\n",
    "test_data=img_Generator(str(image_path)+'/test/',data_typ,CNN_width,CNN_height)"
   ]
  },
  {
   "cell_type": "code",
   "execution_count": 9,
   "metadata": {},
   "outputs": [],
   "source": [
    "from tensorflow.keras.callbacks import EarlyStopping,ReduceLROnPlateau\n",
    "early = EarlyStopping(monitor=\"loss\", mode=\"min\",min_delta = 0,\n",
    "                          patience = 10,\n",
    "                          verbose = 1,\n",
    "                          restore_best_weights = True)\n",
    "learning_rate_reduction = ReduceLROnPlateau(monitor='loss', patience = 2, verbose=1,factor=0.3, min_lr=0.000001)\n",
    "callbacks_list = [early, learning_rate_reduction]"
   ]
  },
  {
   "cell_type": "code",
   "execution_count": 10,
   "metadata": {},
   "outputs": [
    {
     "name": "stdout",
     "output_type": "stream",
     "text": [
      "Model: \"sequential_1\"\n",
      "_________________________________________________________________\n",
      " Layer (type)                Output Shape              Param #   \n",
      "=================================================================\n",
      " conv2d (Conv2D)             (None, 261, 195, 100)     7600      \n",
      "                                                                 \n",
      " batch_normalization (BatchN  (None, 261, 195, 100)    400       \n",
      " ormalization)                                                   \n",
      "                                                                 \n",
      " max_pooling2d (MaxPooling2D  (None, 130, 97, 100)     0         \n",
      " )                                                               \n",
      "                                                                 \n",
      " conv2d_1 (Conv2D)           (None, 130, 97, 64)       160064    \n",
      "                                                                 \n",
      " batch_normalization_1 (Batc  (None, 130, 97, 64)      256       \n",
      " hNormalization)                                                 \n",
      "                                                                 \n",
      " max_pooling2d_1 (MaxPooling  (None, 65, 48, 64)       0         \n",
      " 2D)                                                             \n",
      "                                                                 \n",
      " conv2d_2 (Conv2D)           (None, 65, 48, 64)        36928     \n",
      "                                                                 \n",
      " batch_normalization_2 (Batc  (None, 65, 48, 64)       256       \n",
      " hNormalization)                                                 \n",
      "                                                                 \n",
      " max_pooling2d_2 (MaxPooling  (None, 32, 24, 64)       0         \n",
      " 2D)                                                             \n",
      "                                                                 \n",
      " flatten (Flatten)           (None, 49152)             0         \n",
      "                                                                 \n",
      " dense (Dense)               (None, 128)               6291584   \n",
      "                                                                 \n",
      " batch_normalization_3 (Batc  (None, 128)              512       \n",
      " hNormalization)                                                 \n",
      "                                                                 \n",
      " dropout (Dropout)           (None, 128)               0         \n",
      "                                                                 \n",
      " dense_1 (Dense)             (None, 64)                8256      \n",
      "                                                                 \n",
      " batch_normalization_4 (Batc  (None, 64)               256       \n",
      " hNormalization)                                                 \n",
      "                                                                 \n",
      " dropout_1 (Dropout)         (None, 64)                0         \n",
      "                                                                 \n",
      " dense_2 (Dense)             (None, 32)                2080      \n",
      "                                                                 \n",
      " batch_normalization_5 (Batc  (None, 32)               128       \n",
      " hNormalization)                                                 \n",
      "                                                                 \n",
      " dropout_2 (Dropout)         (None, 32)                0         \n",
      "                                                                 \n",
      " dense_3 (Dense)             (None, 10)                330       \n",
      "                                                                 \n",
      "=================================================================\n",
      "Total params: 6,508,650\n",
      "Trainable params: 6,507,746\n",
      "Non-trainable params: 904\n",
      "_________________________________________________________________\n"
     ]
    }
   ],
   "source": [
    "cnn_model = Sequential()\n",
    "cnn_model = models.Sequential()\n",
    "cnn_model.add(layers.Conv2D(100,(5,5), kernel_regularizer=l2(0.00005),padding ='Same',activation = 'relu',input_shape=(CNN_width,CNN_height,3)))\n",
    "cnn_model.add(BatchNormalization())\n",
    "cnn_model.add(layers.MaxPooling2D(2,2))\n",
    "cnn_model.add(layers.Conv2D(64,(5,5) ,kernel_regularizer=l2(0.00005),padding ='same',activation='relu'))\n",
    "cnn_model.add(BatchNormalization())\n",
    "cnn_model.add(layers.MaxPooling2D(2,2))\n",
    "cnn_model.add(layers.Conv2D(64,(3,3),kernel_regularizer=l2(0.00005),padding ='same',activation='relu'))\n",
    "cnn_model.add(BatchNormalization())\n",
    "cnn_model.add(layers.MaxPooling2D(2,2))\n",
    "cnn_model.add(layers.Flatten())\n",
    "cnn_model.add(layers.Dense(128, activation='relu'))\n",
    "cnn_model.add(BatchNormalization())\n",
    "cnn_model.add(Dropout(0.3))\n",
    "cnn_model.add(layers.Dense(64, activation='relu'))\n",
    "cnn_model.add(BatchNormalization())\n",
    "cnn_model.add(Dropout(0.3))\n",
    "cnn_model.add(layers.Dense(32, activation='relu'))\n",
    "cnn_model.add(BatchNormalization())\n",
    "cnn_model.add(Dropout(0.3))\n",
    "cnn_model.add(layers.Dense(10, activation ='softmax'))\n",
    "cnn_model.summary()\n"
   ]
  },
  {
   "cell_type": "code",
   "execution_count": 11,
   "metadata": {},
   "outputs": [],
   "source": [
    "cnn_model.compile(optimizer='adam',loss='categorical_crossentropy',metrics=['accuracy'])"
   ]
  },
  {
   "cell_type": "code",
   "execution_count": null,
   "metadata": {},
   "outputs": [
    {
     "name": "stdout",
     "output_type": "stream",
     "text": [
      "Epoch 1/200\n",
      "90/90 [==============================] - 592s 7s/step - loss: 2.7561 - accuracy: 0.1354 - lr: 0.0010\n",
      "Epoch 2/200\n",
      "90/90 [==============================] - 610s 7s/step - loss: 2.4341 - accuracy: 0.1678 - lr: 0.0010\n",
      "Epoch 3/200\n",
      "90/90 [==============================] - 614s 7s/step - loss: 2.2416 - accuracy: 0.1982 - lr: 0.0010\n",
      "Epoch 4/200\n",
      "90/90 [==============================] - 648s 7s/step - loss: 2.1396 - accuracy: 0.2310 - lr: 0.0010\n",
      "Epoch 5/200\n",
      "90/90 [==============================] - 612s 7s/step - loss: 2.1108 - accuracy: 0.2338 - lr: 0.0010\n",
      "Epoch 6/200\n",
      "90/90 [==============================] - 623s 7s/step - loss: 2.1029 - accuracy: 0.2320 - lr: 0.0010\n",
      "Epoch 7/200\n",
      "90/90 [==============================] - 573s 6s/step - loss: 1.9857 - accuracy: 0.2690 - lr: 0.0010\n",
      "Epoch 8/200\n",
      "90/90 [==============================] - 577s 6s/step - loss: 1.9586 - accuracy: 0.2777 - lr: 0.0010\n",
      "Epoch 9/200\n",
      "90/90 [==============================] - 593s 7s/step - loss: 1.9399 - accuracy: 0.3039 - lr: 0.0010\n",
      "Epoch 10/200\n",
      "90/90 [==============================] - 579s 6s/step - loss: 1.8784 - accuracy: 0.3057 - lr: 0.0010\n",
      "Epoch 11/200\n",
      "90/90 [==============================] - 579s 6s/step - loss: 1.8541 - accuracy: 0.3276 - lr: 0.0010\n",
      "Epoch 12/200\n",
      "90/90 [==============================] - 608s 7s/step - loss: 1.8494 - accuracy: 0.3186 - lr: 0.0010\n",
      "Epoch 13/200\n",
      "90/90 [==============================] - 628s 7s/step - loss: 1.8121 - accuracy: 0.3325 - lr: 0.0010\n",
      "Epoch 14/200\n",
      "90/90 [==============================] - 615s 7s/step - loss: 1.8045 - accuracy: 0.3437 - lr: 0.0010\n",
      "Epoch 15/200\n",
      "90/90 [==============================] - 633s 7s/step - loss: 1.7544 - accuracy: 0.3597 - lr: 0.0010\n",
      "Epoch 16/200\n",
      "90/90 [==============================] - 597s 7s/step - loss: 1.7520 - accuracy: 0.3660 - lr: 0.0010\n",
      "Epoch 17/200\n",
      "90/90 [==============================] - 611s 7s/step - loss: 1.6997 - accuracy: 0.3971 - lr: 0.0010\n",
      "Epoch 18/200\n",
      "90/90 [==============================] - 666s 7s/step - loss: 1.6946 - accuracy: 0.4006 - lr: 0.0010\n",
      "Epoch 19/200\n",
      "36/90 [===========>..................] - ETA: 6:06 - loss: 1.6776 - accuracy: 0.3984"
     ]
    }
   ],
   "source": [
    "batch_size = 32\n",
    "# Training model\n",
    "\n",
    "n_training_samples = len(train_data)\n",
    "t0 = time.time()\n",
    "cnn_history = cnn_model.fit(\n",
    "    train_data,\n",
    "    epochs=200,\n",
    "    # steps_per_epoch =(n_training_samples//batch_size)*2,\n",
    "    shuffle = True,\n",
    "    callbacks=callbacks_list\n",
    "    )\n",
    "record_time =time.time()-t0\n",
    "print(\"Training time:\", record_time)\n"
   ]
  },
  {
   "cell_type": "code",
   "execution_count": 11,
   "metadata": {},
   "outputs": [
    {
     "name": "stderr",
     "output_type": "stream",
     "text": [
      "WARNING:absl:Found untraced functions such as _jit_compiled_convolution_op, _jit_compiled_convolution_op, _jit_compiled_convolution_op while saving (showing 3 of 3). These functions will not be directly callable after loading.\n"
     ]
    },
    {
     "name": "stdout",
     "output_type": "stream",
     "text": [
      "INFO:tensorflow:Assets written to: C:/Users/Hanif/Documents/Kuliah/TA/Models/CNN\\assets\n"
     ]
    },
    {
     "name": "stderr",
     "output_type": "stream",
     "text": [
      "INFO:tensorflow:Assets written to: C:/Users/Hanif/Documents/Kuliah/TA/Models/CNN\\assets\n"
     ]
    }
   ],
   "source": [
    "from keras.models import Model\n",
    "#save the model\n",
    "cnn_model.save('C:/Users/Hanif/Documents/Kuliah/TA/Models/CNN/CNN_Adam')"
   ]
  },
  {
   "cell_type": "code",
   "execution_count": 5,
   "metadata": {},
   "outputs": [],
   "source": [
    "from keras.models import Model\n",
    "cnn_model = tf.keras.models.load_model('C:/Users/Hanif/Documents/Kuliah/TA/Models/CNN/CNN_Adam')"
   ]
  },
  {
   "cell_type": "code",
   "execution_count": 19,
   "metadata": {},
   "outputs": [
    {
     "data": {
      "text/plain": [
       "['loss', 'accuracy']"
      ]
     },
     "execution_count": 19,
     "metadata": {},
     "output_type": "execute_result"
    }
   ],
   "source": [
    "cnn_model.metrics_names"
   ]
  },
  {
   "cell_type": "code",
   "execution_count": 6,
   "metadata": {},
   "outputs": [
    {
     "name": "stdout",
     "output_type": "stream",
     "text": [
      "38/38 [==============================] - 42s 1s/step - loss: 1.4531 - accuracy: 0.4711\n"
     ]
    },
    {
     "data": {
      "text/plain": [
       "[1.4530673027038574, 0.47108131647109985]"
      ]
     },
     "execution_count": 6,
     "metadata": {},
     "output_type": "execute_result"
    }
   ],
   "source": [
    "cnn_model.evaluate(test_data)"
   ]
  },
  {
   "cell_type": "code",
   "execution_count": 7,
   "metadata": {},
   "outputs": [
    {
     "name": "stdout",
     "output_type": "stream",
     "text": [
      "38/38 [==============================] - 49s 1s/step\n"
     ]
    },
    {
     "data": {
      "image/png": "[encoded data removed]",
      "text/plain": [
       "<Figure size 864x864 with 2 Axes>"
      ]
     },
     "metadata": {
      "needs_background": "light"
     },
     "output_type": "display_data"
    }
   ],
   "source": [
    "y_val = test_data.classes\n",
    "y_pred = cnn_model.predict(test_data)\n",
    "y_pred = np.argmax(y_pred, axis=1)\n",
    "confusion_mtx = confusion_matrix(y_pred, y_val)\n",
    "f,ax = plt.subplots(figsize=(12, 12))\n",
    "sns.heatmap(confusion_mtx, annot=True, \n",
    "            linewidths=0.01,\n",
    "            linecolor=\"white\", \n",
    "            fmt= '.1f',ax=ax,)\n",
    "sns.color_palette(\"rocket\")\n",
    "\n",
    "plt.xlabel(\"Predicted Label\")\n",
    "plt.ylabel(\"True Label\")\n",
    "# ax.xaxis.set_ticklabels(test_data.class_indices)\n",
    "# ax.yaxis.set_ticklabels(rice_classes)\n",
    "plt.title(\"Confusion Matrix\")\n",
    "plt.show()"
   ]
  },
  {
   "cell_type": "code",
   "execution_count": 8,
   "metadata": {},
   "outputs": [
    {
     "name": "stdout",
     "output_type": "stream",
     "text": [
      "Accuracy: 0.471081\n",
      "Precision: 0.448002\n",
      "Recall: 0.492799\n",
      "F1 score: 0.452331\n"
     ]
    }
   ],
   "source": [
    "# accuracy: (tp + tn) / (p + n)\n",
    "accuracy = accuracy_score(y_pred, y_val)\n",
    "print('Accuracy: %f' % accuracy)\n",
    "# precision tp / (tp + fp)\n",
    "precision = precision_score(y_pred, y_val, average='macro')\n",
    "print('Precision: %f' % precision)\n",
    "# recall: tp / (tp + fn)\n",
    "recall = recall_score(y_pred, y_val, average='macro')\n",
    "print('Recall: %f' % recall)\n",
    "# f1: 2 tp / (2 tp + fp + fn)\n",
    "f1 = f1_score(y_pred, y_val, average='macro')\n",
    "print('F1 score: %f' % f1)"
   ]
  },
  {
   "cell_type": "code",
   "execution_count": null,
   "metadata": {},
   "outputs": [],
   "source": [
    "y_val = test_data.classes\n",
    "y_pred = cnn_model.predict(test_data)\n",
    "y_pred = np.argmax(y_pred, axis=1)\n",
    "confusion_mtx = confusion_matrix(y_pred, y_val)\n",
    "f,ax = plt.subplots(figsize=(12, 12))\n",
    "sns.heatmap(confusion_mtx, annot=True, \n",
    "            linewidths=0.01,\n",
    "            linecolor=\"white\", \n",
    "            fmt= '.1f',ax=ax,)\n",
    "sns.color_palette(\"rocket\")\n",
    "\n",
    "plt.xlabel(\"Predicted Label\")\n",
    "plt.ylabel(\"True Label\")\n",
    "# ax.xaxis.set_ticklabels(test_data.class_indices)\n",
    "# ax.yaxis.set_ticklabels(rice_classes)\n",
    "plt.title(\"Confusion Matrix\")\n",
    "plt.show()"
   ]
  },
  {
   "cell_type": "code",
   "execution_count": null,
   "metadata": {},
   "outputs": [],
   "source": [
    "# accuracy: (tp + tn) / (p + n)\n",
    "accuracy = accuracy_score(y_pred, y_val)\n",
    "print('Accuracy: %f' % accuracy)\n",
    "# precision tp / (tp + fp)\n",
    "precision = precision_score(y_pred, y_val, average='macro')\n",
    "print('Precision: %f' % precision)\n",
    "# recall: tp / (tp + fn)\n",
    "recall = recall_score(y_pred, y_val, average='macro')\n",
    "print('Recall: %f' % recall)\n",
    "# f1: 2 tp / (2 tp + fp + fn)\n",
    "f1 = f1_score(y_pred, y_val, average='macro')\n",
    "print('F1 score: %f' % f1)"
   ]
  },
  {
   "cell_type": "code",
   "execution_count": null,
   "metadata": {},
   "outputs": [],
   "source": []
  }
 ],
 "metadata": {
  "kernelspec": {
   "display_name": "Python 3",
   "language": "python",
   "name": "python3"
  },
  "language_info": {
   "codemirror_mode": {
    "name": "ipython",
    "version": 3
   },
   "file_extension": ".py",
   "mimetype": "text/x-python",
   "name": "python",
   "nbconvert_exporter": "python",
   "pygments_lexer": "ipython3",
   "version": "3.7.6"
  }
 },
 "nbformat": 4,
 "nbformat_minor": 4
}
